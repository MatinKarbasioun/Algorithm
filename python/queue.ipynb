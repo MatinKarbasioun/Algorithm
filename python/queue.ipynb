{
 "cells": [
  {
   "cell_type": "code",
   "id": "initial_id",
   "metadata": {
    "collapsed": true,
    "ExecuteTime": {
     "end_time": "2025-04-08T12:08:51.374472Z",
     "start_time": "2025-04-08T12:08:51.368997Z"
    }
   },
   "source": "tasks = [f\"task {num}\" for num in range(1,1000)]",
   "outputs": [],
   "execution_count": 1
  },
  {
   "metadata": {
    "ExecuteTime": {
     "end_time": "2025-04-08T12:10:01.599028Z",
     "start_time": "2025-04-08T12:10:01.586696Z"
    }
   },
   "cell_type": "code",
   "source": [
    "from queues import Queue as ImplQueue\n",
    "from queue import Queue\n",
    "\n",
    "impl_queue = ImplQueue()\n",
    "queue = Queue()\n",
    "output = []\n",
    "is_valid = True\n",
    "\n",
    "for task in tasks:\n",
    "    impl_queue.enqueue(task)\n",
    "    queue.put(task)\n",
    "    \n",
    "print(f\"Size of Queues after enqueue \\n\"\n",
    "      f\"implemented queue: {impl_queue.size} \\n\"\n",
    "      f\"python queue: {queue.qsize()} \\n\")\n",
    "    \n",
    "while not impl_queue.empty():\n",
    "    if queue.empty():\n",
    "        is_valid = False\n",
    "        \n",
    "    if queue.get() != impl_queue.dequeue():\n",
    "        is_valid = False\n",
    "        \n",
    "print(f\"Size of Queues after dequeue \\n\"\n",
    "      f\"implemented queue: {impl_queue.size} \\n\"\n",
    "      f\"python queue: {queue.qsize()} \\n\")\n",
    "    \n",
    "print(is_valid)"
   ],
   "id": "46c06dfb4cac07e6",
   "outputs": [
    {
     "name": "stdout",
     "output_type": "stream",
     "text": [
      "Size of Queues after enqueue \n",
      "implemented queue: 999 \n",
      "python queue: 999 \n",
      "\n",
      "Size of Queues after dequeue \n",
      "implemented queue: 0 \n",
      "python queue: 0 \n",
      "\n",
      "True\n"
     ]
    }
   ],
   "execution_count": 4
  }
 ],
 "metadata": {
  "kernelspec": {
   "display_name": "Python 3",
   "language": "python",
   "name": "python3"
  },
  "language_info": {
   "codemirror_mode": {
    "name": "ipython",
    "version": 2
   },
   "file_extension": ".py",
   "mimetype": "text/x-python",
   "name": "python",
   "nbconvert_exporter": "python",
   "pygments_lexer": "ipython2",
   "version": "2.7.6"
  }
 },
 "nbformat": 4,
 "nbformat_minor": 5
}
