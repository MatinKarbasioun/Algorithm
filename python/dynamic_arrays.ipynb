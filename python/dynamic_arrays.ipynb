{
 "cells": [
  {
   "cell_type": "code",
   "id": "initial_id",
   "metadata": {
    "collapsed": true,
    "ExecuteTime": {
     "end_time": "2025-04-09T11:12:46.882259Z",
     "start_time": "2025-04-09T11:12:46.249217Z"
    }
   },
   "source": [
    "import random\n",
    "\n",
    "# load dataset\n",
    "import pandas as pd\n",
    "import os\n",
    "\n",
    "from python.array.array import DynamicArray\n",
    "\n",
    "path = os.getcwd()\n",
    "\n",
    "playlist = pd.read_csv(path+\"/linked_lists/datasets/spotify_music.csv\", encoding=\"utf8\")\n",
    "row_num = playlist.shape[0]"
   ],
   "outputs": [],
   "execution_count": 1
  },
  {
   "metadata": {
    "ExecuteTime": {
     "end_time": "2025-04-09T11:12:48.021407Z",
     "start_time": "2025-04-09T11:12:47.913207Z"
    }
   },
   "cell_type": "code",
   "source": [
    "playlist_arr = DynamicArray()\n",
    "\n",
    "for track in playlist['track_name']:\n",
    "    playlist_arr.append(track)\n",
    "    \n",
    "print(len(playlist_arr) == row_num)\n",
    "num = random.randint(0, row_num)\n",
    "print(playlist_arr[num] == playlist['track_name'][num])"
   ],
   "id": "1077d6396747f6ff",
   "outputs": [
    {
     "name": "stdout",
     "output_type": "stream",
     "text": [
      "True\n",
      "True\n"
     ]
    }
   ],
   "execution_count": 2
  },
  {
   "metadata": {
    "ExecuteTime": {
     "end_time": "2025-04-09T11:12:49.656671Z",
     "start_time": "2025-04-09T11:12:49.629540Z"
    }
   },
   "cell_type": "code",
   "source": [
    "count = 0\n",
    "\n",
    "for track in playlist_arr:\n",
    "    count += 1\n",
    "    \n",
    "print(count == row_num)"
   ],
   "id": "bf47e356b8182312",
   "outputs": [
    {
     "name": "stdout",
     "output_type": "stream",
     "text": [
      "True\n"
     ]
    }
   ],
   "execution_count": 3
  }
 ],
 "metadata": {
  "kernelspec": {
   "display_name": "Python 3",
   "language": "python",
   "name": "python3"
  },
  "language_info": {
   "codemirror_mode": {
    "name": "ipython",
    "version": 2
   },
   "file_extension": ".py",
   "mimetype": "text/x-python",
   "name": "python",
   "nbconvert_exporter": "python",
   "pygments_lexer": "ipython2",
   "version": "2.7.6"
  }
 },
 "nbformat": 4,
 "nbformat_minor": 5
}
