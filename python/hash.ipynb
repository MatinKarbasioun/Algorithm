{
 "cells": [
  {
   "cell_type": "code",
   "id": "initial_id",
   "metadata": {
    "collapsed": true,
    "ExecuteTime": {
     "end_time": "2025-04-11T12:52:40.367407Z",
     "start_time": "2025-04-11T12:52:40.361743Z"
    }
   },
   "source": [
    "from python.data_structures.hash_table.hash_family.polynomial import PolynomialHashing\n",
    "from hashlib import sha256, sha512, md5\n",
    "\n",
    "string = 'this is my sample string'\n",
    "\n",
    "hash_func = PolynomialHashing(10**20)\n",
    "print(\"output of polynomial has family:\", hash_func.hash('sala m'))\n",
    "print(\"output of polynomial has family:\",hash_func.hash('sala m'))\n",
    "print(\"output of python hash function:\",hash('hamed'))\n",
    "print(\"output of md5 hash function:\", md5('hamed'.encode()).hexdigest())\n",
    "print(\"output of sha256 hash function:\", sha256('hamed'.encode()).hexdigest())\n",
    "print(\"output of sha512 hash function:\", sha512('hamed'.encode()).hexdigest())"
   ],
   "outputs": [
    {
     "name": "stdout",
     "output_type": "stream",
     "text": [
      "output of polynomial has family: 30504756382303365871\n",
      "output of polynomial has family: 30504756382303365871\n",
      "output of python hash function: 5011541019955721920\n",
      "output of md5 hash function: 739b7af086e8c8873d6c8c7378f224c8\n",
      "output of sha256 hash function: ce25fe351f2e98a1cdd39c09d5411a155f782b9745478b8342d7f86ee81ff4e6\n",
      "output of sha512 hash function: 296532ea6e3d31996ecff110a91a659875a44bd67056f31a31b1b8790d447a9d0c85edc41d8f5fdc3e1cfc10ea6393d0f01ef7ad8998b2486e5aee8966748c4a\n"
     ]
    }
   ],
   "execution_count": 4
  },
  {
   "metadata": {},
   "cell_type": "code",
   "outputs": [],
   "execution_count": null,
   "source": "",
   "id": "4b20f3e0cefcf67c"
  }
 ],
 "metadata": {
  "kernelspec": {
   "display_name": "Python 3",
   "language": "python",
   "name": "python3"
  },
  "language_info": {
   "codemirror_mode": {
    "name": "ipython",
    "version": 2
   },
   "file_extension": ".py",
   "mimetype": "text/x-python",
   "name": "python",
   "nbconvert_exporter": "python",
   "pygments_lexer": "ipython2",
   "version": "2.7.6"
  }
 },
 "nbformat": 4,
 "nbformat_minor": 5
}
