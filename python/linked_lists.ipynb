{
 "cells": [
  {
   "cell_type": "code",
   "id": "initial_id",
   "metadata": {
    "collapsed": true,
    "ExecuteTime": {
     "end_time": "2025-04-06T12:17:09.497223Z",
     "start_time": "2025-04-06T12:17:08.693748Z"
    }
   },
   "source": [
    "# load dataset\n",
    "import pandas as pd\n",
    "import os\n",
    "\n",
    "path = os.getcwd()\n",
    "\n",
    "playlist = pd.read_csv(path+\"/linked_lists/datasets/spotify_music.csv\", encoding=\"utf8\")\n",
    "row_num = playlist.shape[0]"
   ],
   "outputs": [],
   "execution_count": 1
  },
  {
   "metadata": {
    "ExecuteTime": {
     "end_time": "2025-04-06T12:17:11.113687Z",
     "start_time": "2025-04-06T12:17:11.100902Z"
    }
   },
   "cell_type": "code",
   "source": [
    "from linked_lists import SinglyLinkedList\n",
    "from time_measurement import timer\n",
    "music_playlist = SinglyLinkedList()\n",
    "\n",
    "@timer\n",
    "def singly_link_list_push():\n",
    "    for track in 2 * playlist['track_name']:\n",
    "        music_playlist.push_back(track)\n"
   ],
   "id": "f5858ad9b5594344",
   "outputs": [],
   "execution_count": 2
  },
  {
   "metadata": {
    "ExecuteTime": {
     "end_time": "2025-04-06T12:44:03.505404Z",
     "start_time": "2025-04-06T12:44:03.408988Z"
    }
   },
   "cell_type": "code",
   "source": [
    "%%time\n",
    "%%prun\n",
    "\n",
    "music_playlist.clear()\n",
    "singly_link_list_push()"
   ],
   "id": "1c2fb45b3c391ea3",
   "outputs": [
    {
     "name": "stdout",
     "output_type": "stream",
     "text": [
      "Finished singly_link_list_push() in 0.0897 secs\n",
      " CPU times: total: 93.8 ms\n",
      "Wall time: 92.6 ms\n"
     ]
    }
   ],
   "execution_count": 26
  }
 ],
 "metadata": {
  "kernelspec": {
   "display_name": "Python 3",
   "language": "python",
   "name": "python3"
  },
  "language_info": {
   "codemirror_mode": {
    "name": "ipython",
    "version": 2
   },
   "file_extension": ".py",
   "mimetype": "text/x-python",
   "name": "python",
   "nbconvert_exporter": "python",
   "pygments_lexer": "ipython2",
   "version": "2.7.6"
  }
 },
 "nbformat": 4,
 "nbformat_minor": 5
}
