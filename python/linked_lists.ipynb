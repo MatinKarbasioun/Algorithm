{
 "cells": [
  {
   "cell_type": "code",
   "id": "initial_id",
   "metadata": {
    "collapsed": true,
    "ExecuteTime": {
     "end_time": "2025-04-07T11:17:22.495133Z",
     "start_time": "2025-04-07T11:17:22.178500Z"
    }
   },
   "source": [
    "# load dataset\n",
    "import pandas as pd\n",
    "import os\n",
    "\n",
    "path = os.getcwd()\n",
    "\n",
    "playlist = pd.read_csv(path+\"/linked_lists/datasets/spotify_music.csv\", encoding=\"utf8\")\n",
    "row_num = playlist.shape[0]"
   ],
   "outputs": [],
   "execution_count": 6
  },
  {
   "metadata": {
    "ExecuteTime": {
     "end_time": "2025-04-07T11:17:38.653344Z",
     "start_time": "2025-04-07T11:17:38.637691Z"
    }
   },
   "cell_type": "code",
   "source": [
    "from linked_lists import SinglyLinkedList, DoublyLinkedList\n",
    "singly_music_playlist = SinglyLinkedList()\n",
    "doubly_music_playlist = DoublyLinkedList()\n",
    "\n",
    "def singly_linked_list_push():\n",
    "    for track in 2 * playlist['track_name']:\n",
    "        singly_music_playlist.push_back(track)\n",
    "        \n",
    "def doubly_linked_list_push():\n",
    "    for track in 2 * playlist['track_name']:\n",
    "        doubly_music_playlist.push_back(track)"
   ],
   "id": "f5858ad9b5594344",
   "outputs": [],
   "execution_count": 9
  },
  {
   "metadata": {
    "ExecuteTime": {
     "end_time": "2025-04-07T11:17:40.369983Z",
     "start_time": "2025-04-07T11:17:40.307324Z"
    }
   },
   "cell_type": "code",
   "source": [
    "%%time\n",
    "%%prun\n",
    "\n",
    "singly_music_playlist.clear()\n",
    "singly_music_playlist()"
   ],
   "id": "1c2fb45b3c391ea3",
   "outputs": [
    {
     "ename": "TypeError",
     "evalue": "'SinglyLinkedList' object is not callable",
     "output_type": "error",
     "traceback": [
      "\u001B[31m---------------------------------------------------------------------------\u001B[39m",
      "\u001B[31mTypeError\u001B[39m                                 Traceback (most recent call last)",
      "\u001B[36mFile \u001B[39m\u001B[32m<timed eval>:1\u001B[39m\n",
      "\u001B[36mFile \u001B[39m\u001B[32mD:\\Projects\\Personal\\data_structure\\.venv\\Lib\\site-packages\\IPython\\core\\interactiveshell.py:2542\u001B[39m, in \u001B[36mInteractiveShell.run_cell_magic\u001B[39m\u001B[34m(self, magic_name, line, cell)\u001B[39m\n\u001B[32m   2540\u001B[39m \u001B[38;5;28;01mwith\u001B[39;00m \u001B[38;5;28mself\u001B[39m.builtin_trap:\n\u001B[32m   2541\u001B[39m     args = (magic_arg_s, cell)\n\u001B[32m-> \u001B[39m\u001B[32m2542\u001B[39m     result = \u001B[43mfn\u001B[49m\u001B[43m(\u001B[49m\u001B[43m*\u001B[49m\u001B[43margs\u001B[49m\u001B[43m,\u001B[49m\u001B[43m \u001B[49m\u001B[43m*\u001B[49m\u001B[43m*\u001B[49m\u001B[43mkwargs\u001B[49m\u001B[43m)\u001B[49m\n\u001B[32m   2544\u001B[39m \u001B[38;5;66;03m# The code below prevents the output from being displayed\u001B[39;00m\n\u001B[32m   2545\u001B[39m \u001B[38;5;66;03m# when using magics with decorator @output_can_be_silenced\u001B[39;00m\n\u001B[32m   2546\u001B[39m \u001B[38;5;66;03m# when the last Python token in the expression is a ';'.\u001B[39;00m\n\u001B[32m   2547\u001B[39m \u001B[38;5;28;01mif\u001B[39;00m \u001B[38;5;28mgetattr\u001B[39m(fn, magic.MAGIC_OUTPUT_CAN_BE_SILENCED, \u001B[38;5;28;01mFalse\u001B[39;00m):\n",
      "\u001B[36mFile \u001B[39m\u001B[32mD:\\Projects\\Personal\\data_structure\\.venv\\Lib\\site-packages\\IPython\\core\\magics\\execution.py:324\u001B[39m, in \u001B[36mExecutionMagics.prun\u001B[39m\u001B[34m(self, parameter_s, cell)\u001B[39m\n\u001B[32m    322\u001B[39m     arg_str += \u001B[33m'\u001B[39m\u001B[38;5;130;01m\\n\u001B[39;00m\u001B[33m'\u001B[39m + cell\n\u001B[32m    323\u001B[39m arg_str = \u001B[38;5;28mself\u001B[39m.shell.transform_cell(arg_str)\n\u001B[32m--> \u001B[39m\u001B[32m324\u001B[39m \u001B[38;5;28;01mreturn\u001B[39;00m \u001B[38;5;28;43mself\u001B[39;49m\u001B[43m.\u001B[49m\u001B[43m_run_with_profiler\u001B[49m\u001B[43m(\u001B[49m\u001B[43marg_str\u001B[49m\u001B[43m,\u001B[49m\u001B[43m \u001B[49m\u001B[43mopts\u001B[49m\u001B[43m,\u001B[49m\u001B[43m \u001B[49m\u001B[38;5;28;43mself\u001B[39;49m\u001B[43m.\u001B[49m\u001B[43mshell\u001B[49m\u001B[43m.\u001B[49m\u001B[43muser_ns\u001B[49m\u001B[43m)\u001B[49m\n",
      "\u001B[36mFile \u001B[39m\u001B[32mD:\\Projects\\Personal\\data_structure\\.venv\\Lib\\site-packages\\IPython\\core\\magics\\execution.py:346\u001B[39m, in \u001B[36mExecutionMagics._run_with_profiler\u001B[39m\u001B[34m(self, code, opts, namespace)\u001B[39m\n\u001B[32m    344\u001B[39m prof = profile.Profile()\n\u001B[32m    345\u001B[39m \u001B[38;5;28;01mtry\u001B[39;00m:\n\u001B[32m--> \u001B[39m\u001B[32m346\u001B[39m     prof = \u001B[43mprof\u001B[49m\u001B[43m.\u001B[49m\u001B[43mrunctx\u001B[49m\u001B[43m(\u001B[49m\u001B[43mcode\u001B[49m\u001B[43m,\u001B[49m\u001B[43m \u001B[49m\u001B[43mnamespace\u001B[49m\u001B[43m,\u001B[49m\u001B[43m \u001B[49m\u001B[43mnamespace\u001B[49m\u001B[43m)\u001B[49m\n\u001B[32m    347\u001B[39m     sys_exit = \u001B[33m'\u001B[39m\u001B[33m'\u001B[39m\n\u001B[32m    348\u001B[39m \u001B[38;5;28;01mexcept\u001B[39;00m \u001B[38;5;167;01mSystemExit\u001B[39;00m:\n",
      "\u001B[36mFile \u001B[39m\u001B[32m~\\AppData\\Local\\Programs\\Python\\Python313\\Lib\\cProfile.py:104\u001B[39m, in \u001B[36mProfile.runctx\u001B[39m\u001B[34m(self, cmd, globals, locals)\u001B[39m\n\u001B[32m    102\u001B[39m \u001B[38;5;28mself\u001B[39m.enable()\n\u001B[32m    103\u001B[39m \u001B[38;5;28;01mtry\u001B[39;00m:\n\u001B[32m--> \u001B[39m\u001B[32m104\u001B[39m     \u001B[43mexec\u001B[49m\u001B[43m(\u001B[49m\u001B[43mcmd\u001B[49m\u001B[43m,\u001B[49m\u001B[43m \u001B[49m\u001B[38;5;28;43mglobals\u001B[39;49m\u001B[43m,\u001B[49m\u001B[43m \u001B[49m\u001B[38;5;28;43mlocals\u001B[39;49m\u001B[43m)\u001B[49m\n\u001B[32m    105\u001B[39m \u001B[38;5;28;01mfinally\u001B[39;00m:\n\u001B[32m    106\u001B[39m     \u001B[38;5;28mself\u001B[39m.disable()\n",
      "\u001B[36mFile \u001B[39m\u001B[32m<string>:2\u001B[39m\n",
      "\u001B[31mTypeError\u001B[39m: 'SinglyLinkedList' object is not callable"
     ]
    }
   ],
   "execution_count": 10
  },
  {
   "metadata": {
    "ExecuteTime": {
     "end_time": "2025-04-07T11:14:23.863970Z",
     "start_time": "2025-04-07T11:14:23.812763Z"
    }
   },
   "cell_type": "code",
   "source": [
    "%%time\n",
    "%%prun\n",
    "\n",
    "doubly_music_playlist.clear()\n",
    "doubly_music_playlist()"
   ],
   "id": "6fe7041a984671a0",
   "outputs": [
    {
     "ename": "TypeError",
     "evalue": "'DoublyLinkedList' object is not callable",
     "output_type": "error",
     "traceback": [
      "\u001B[31m---------------------------------------------------------------------------\u001B[39m",
      "\u001B[31mTypeError\u001B[39m                                 Traceback (most recent call last)",
      "\u001B[36mFile \u001B[39m\u001B[32m<timed eval>:1\u001B[39m\n",
      "\u001B[36mFile \u001B[39m\u001B[32mD:\\Projects\\Personal\\data_structure\\.venv\\Lib\\site-packages\\IPython\\core\\interactiveshell.py:2542\u001B[39m, in \u001B[36mInteractiveShell.run_cell_magic\u001B[39m\u001B[34m(self, magic_name, line, cell)\u001B[39m\n\u001B[32m   2540\u001B[39m \u001B[38;5;28;01mwith\u001B[39;00m \u001B[38;5;28mself\u001B[39m.builtin_trap:\n\u001B[32m   2541\u001B[39m     args = (magic_arg_s, cell)\n\u001B[32m-> \u001B[39m\u001B[32m2542\u001B[39m     result = \u001B[43mfn\u001B[49m\u001B[43m(\u001B[49m\u001B[43m*\u001B[49m\u001B[43margs\u001B[49m\u001B[43m,\u001B[49m\u001B[43m \u001B[49m\u001B[43m*\u001B[49m\u001B[43m*\u001B[49m\u001B[43mkwargs\u001B[49m\u001B[43m)\u001B[49m\n\u001B[32m   2544\u001B[39m \u001B[38;5;66;03m# The code below prevents the output from being displayed\u001B[39;00m\n\u001B[32m   2545\u001B[39m \u001B[38;5;66;03m# when using magics with decorator @output_can_be_silenced\u001B[39;00m\n\u001B[32m   2546\u001B[39m \u001B[38;5;66;03m# when the last Python token in the expression is a ';'.\u001B[39;00m\n\u001B[32m   2547\u001B[39m \u001B[38;5;28;01mif\u001B[39;00m \u001B[38;5;28mgetattr\u001B[39m(fn, magic.MAGIC_OUTPUT_CAN_BE_SILENCED, \u001B[38;5;28;01mFalse\u001B[39;00m):\n",
      "\u001B[36mFile \u001B[39m\u001B[32mD:\\Projects\\Personal\\data_structure\\.venv\\Lib\\site-packages\\IPython\\core\\magics\\execution.py:324\u001B[39m, in \u001B[36mExecutionMagics.prun\u001B[39m\u001B[34m(self, parameter_s, cell)\u001B[39m\n\u001B[32m    322\u001B[39m     arg_str += \u001B[33m'\u001B[39m\u001B[38;5;130;01m\\n\u001B[39;00m\u001B[33m'\u001B[39m + cell\n\u001B[32m    323\u001B[39m arg_str = \u001B[38;5;28mself\u001B[39m.shell.transform_cell(arg_str)\n\u001B[32m--> \u001B[39m\u001B[32m324\u001B[39m \u001B[38;5;28;01mreturn\u001B[39;00m \u001B[38;5;28;43mself\u001B[39;49m\u001B[43m.\u001B[49m\u001B[43m_run_with_profiler\u001B[49m\u001B[43m(\u001B[49m\u001B[43marg_str\u001B[49m\u001B[43m,\u001B[49m\u001B[43m \u001B[49m\u001B[43mopts\u001B[49m\u001B[43m,\u001B[49m\u001B[43m \u001B[49m\u001B[38;5;28;43mself\u001B[39;49m\u001B[43m.\u001B[49m\u001B[43mshell\u001B[49m\u001B[43m.\u001B[49m\u001B[43muser_ns\u001B[49m\u001B[43m)\u001B[49m\n",
      "\u001B[36mFile \u001B[39m\u001B[32mD:\\Projects\\Personal\\data_structure\\.venv\\Lib\\site-packages\\IPython\\core\\magics\\execution.py:346\u001B[39m, in \u001B[36mExecutionMagics._run_with_profiler\u001B[39m\u001B[34m(self, code, opts, namespace)\u001B[39m\n\u001B[32m    344\u001B[39m prof = profile.Profile()\n\u001B[32m    345\u001B[39m \u001B[38;5;28;01mtry\u001B[39;00m:\n\u001B[32m--> \u001B[39m\u001B[32m346\u001B[39m     prof = \u001B[43mprof\u001B[49m\u001B[43m.\u001B[49m\u001B[43mrunctx\u001B[49m\u001B[43m(\u001B[49m\u001B[43mcode\u001B[49m\u001B[43m,\u001B[49m\u001B[43m \u001B[49m\u001B[43mnamespace\u001B[49m\u001B[43m,\u001B[49m\u001B[43m \u001B[49m\u001B[43mnamespace\u001B[49m\u001B[43m)\u001B[49m\n\u001B[32m    347\u001B[39m     sys_exit = \u001B[33m'\u001B[39m\u001B[33m'\u001B[39m\n\u001B[32m    348\u001B[39m \u001B[38;5;28;01mexcept\u001B[39;00m \u001B[38;5;167;01mSystemExit\u001B[39;00m:\n",
      "\u001B[36mFile \u001B[39m\u001B[32m~\\AppData\\Local\\Programs\\Python\\Python313\\Lib\\cProfile.py:104\u001B[39m, in \u001B[36mProfile.runctx\u001B[39m\u001B[34m(self, cmd, globals, locals)\u001B[39m\n\u001B[32m    102\u001B[39m \u001B[38;5;28mself\u001B[39m.enable()\n\u001B[32m    103\u001B[39m \u001B[38;5;28;01mtry\u001B[39;00m:\n\u001B[32m--> \u001B[39m\u001B[32m104\u001B[39m     \u001B[43mexec\u001B[49m\u001B[43m(\u001B[49m\u001B[43mcmd\u001B[49m\u001B[43m,\u001B[49m\u001B[43m \u001B[49m\u001B[38;5;28;43mglobals\u001B[39;49m\u001B[43m,\u001B[49m\u001B[43m \u001B[49m\u001B[38;5;28;43mlocals\u001B[39;49m\u001B[43m)\u001B[49m\n\u001B[32m    105\u001B[39m \u001B[38;5;28;01mfinally\u001B[39;00m:\n\u001B[32m    106\u001B[39m     \u001B[38;5;28mself\u001B[39m.disable()\n",
      "\u001B[36mFile \u001B[39m\u001B[32m<string>:2\u001B[39m\n",
      "\u001B[31mTypeError\u001B[39m: 'DoublyLinkedList' object is not callable"
     ]
    }
   ],
   "execution_count": 5
  }
 ],
 "metadata": {
  "kernelspec": {
   "display_name": "Python 3",
   "language": "python",
   "name": "python3"
  },
  "language_info": {
   "codemirror_mode": {
    "name": "ipython",
    "version": 2
   },
   "file_extension": ".py",
   "mimetype": "text/x-python",
   "name": "python",
   "nbconvert_exporter": "python",
   "pygments_lexer": "ipython2",
   "version": "2.7.6"
  }
 },
 "nbformat": 4,
 "nbformat_minor": 5
}
