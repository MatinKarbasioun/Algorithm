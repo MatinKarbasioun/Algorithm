{
 "cells": [
  {
   "cell_type": "code",
   "id": "initial_id",
   "metadata": {
    "collapsed": true,
    "ExecuteTime": {
     "end_time": "2025-04-08T11:26:01.583280Z",
     "start_time": "2025-04-08T11:26:01.579958Z"
    }
   },
   "source": [
    "from python.queues.stack import Stack\n",
    "\n",
    "balanced_input = \"{([{}])}{([{}])}\"\n",
    "unbalanced_input = \"{([{{}}])]}\""
   ],
   "outputs": [],
   "execution_count": 6
  },
  {
   "metadata": {
    "ExecuteTime": {
     "end_time": "2025-04-08T11:28:41.144225Z",
     "start_time": "2025-04-08T11:28:41.138750Z"
    }
   },
   "cell_type": "code",
   "source": [
    "class StackBalanceValidator:\n",
    "    def __init__(self):\n",
    "        self.__opening_symbols = ['[', '{', '(']\n",
    "        self.__closing_symbols = [']', '}', ')']\n",
    "\n",
    "    def is_balance(self, input_s):\n",
    "        stack = Stack()\n",
    "        for char in input_s:\n",
    "            if char in self.__opening_symbols:\n",
    "                stack.push(char)\n",
    "                \n",
    "            else:\n",
    "                if stack.empty():\n",
    "                    return False\n",
    "                \n",
    "                else:\n",
    "                    top = stack.pop()   \n",
    "                    if (top == '[' and char != ']') or (top == '{' and char != '}') or (top == '(' and char != ')'):\n",
    "                        return False\n",
    "                    \n",
    "                    elif top not in self.__opening_symbols:\n",
    "                        return False\n",
    "        \n",
    "        return True"
   ],
   "id": "362032f2210c396c",
   "outputs": [],
   "execution_count": 15
  },
  {
   "metadata": {
    "ExecuteTime": {
     "end_time": "2025-04-08T11:28:48.123800Z",
     "start_time": "2025-04-08T11:28:48.119421Z"
    }
   },
   "cell_type": "code",
   "source": [
    "print(f\"balance input: {StackBalanceValidator().is_balance(balanced_input)}\")\n",
    "print(f\"unbalance input: {StackBalanceValidator().is_balance(unbalanced_input)}\")"
   ],
   "id": "71af0f9ddd8df127",
   "outputs": [
    {
     "name": "stdout",
     "output_type": "stream",
     "text": [
      "balance input: True\n",
      "unbalance input: False\n"
     ]
    }
   ],
   "execution_count": 18
  },
  {
   "metadata": {
    "ExecuteTime": {
     "end_time": "2025-04-08T11:28:28.837311Z",
     "start_time": "2025-04-08T11:28:28.831672Z"
    }
   },
   "cell_type": "code",
   "source": [
    "import queue\n",
    "\n",
    "class LifoQueueBalanceValidator:\n",
    "    def __init__(self):\n",
    "        self.__opening_symbols = ['[', '{', '(']\n",
    "        self.__closing_symbols = [']', '}', ')']\n",
    "\n",
    "    def is_balance(self, input_s):\n",
    "        stack = queue.LifoQueue()\n",
    "        for char in input_s:\n",
    "            if char in self.__opening_symbols:\n",
    "                stack.put(char)\n",
    "                \n",
    "            else:\n",
    "                if stack.empty():\n",
    "                    return False\n",
    "                \n",
    "                else:\n",
    "                    top = stack.get()\n",
    "                    if (top == '[' and char != ']') or (top == '{' and char != '}') or (top == '(' and char != ')'):\n",
    "                        return False\n",
    "                    \n",
    "                    elif top not in self.__opening_symbols:\n",
    "                        return False\n",
    "        \n",
    "        return True"
   ],
   "id": "19ec3849ed5e0772",
   "outputs": [],
   "execution_count": 13
  },
  {
   "metadata": {
    "ExecuteTime": {
     "end_time": "2025-04-08T11:28:45.708644Z",
     "start_time": "2025-04-08T11:28:45.704257Z"
    }
   },
   "cell_type": "code",
   "source": [
    "print(f\"balance input: {LifoQueueBalanceValidator().is_balance(balanced_input)}\")\n",
    "print(f\"unbalance input: {LifoQueueBalanceValidator().is_balance(unbalanced_input)}\")"
   ],
   "id": "26d20934441676d2",
   "outputs": [
    {
     "name": "stdout",
     "output_type": "stream",
     "text": [
      "balance input: True\n",
      "unbalance input: False\n"
     ]
    }
   ],
   "execution_count": 17
  }
 ],
 "metadata": {
  "kernelspec": {
   "display_name": "Python 3",
   "language": "python",
   "name": "python3"
  },
  "language_info": {
   "codemirror_mode": {
    "name": "ipython",
    "version": 2
   },
   "file_extension": ".py",
   "mimetype": "text/x-python",
   "name": "python",
   "nbconvert_exporter": "python",
   "pygments_lexer": "ipython2",
   "version": "2.7.6"
  }
 },
 "nbformat": 4,
 "nbformat_minor": 5
}
